{
 "cells": [
  {
   "cell_type": "code",
   "execution_count": 0,
   "metadata": {
    "colab": {},
    "colab_type": "code",
    "id": "hnL1SGhUDdo1"
   },
   "outputs": [],
   "source": [
    "import pandas as pd\n",
    "import numpy as np\n",
    "import matplotlib.pyplot as plt\n",
    "import seaborn as sns\n",
    "# import warnings filter\n",
    "from warnings import simplefilter\n",
    "# ignore all future warnings\n",
    "simplefilter(action='ignore', category=FutureWarning)\n",
    "import warnings\n",
    "warnings.filterwarnings(\"ignore\", category=DeprecationWarning)\n",
    "import warnings\n",
    "warnings.filterwarnings(\"ignore\")"
   ]
  },
  {
   "cell_type": "code",
   "execution_count": 0,
   "metadata": {
    "colab": {},
    "colab_type": "code",
    "id": "XaJzAvq3DtHw"
   },
   "outputs": [],
   "source": [
    "from pydrive.auth import GoogleAuth\n",
    "from pydrive.drive import GoogleDrive\n",
    "from google.colab import auth\n",
    "from oauth2client.client import GoogleCredentials\n",
    "import zipfile\n",
    "import os"
   ]
  },
  {
   "cell_type": "code",
   "execution_count": 0,
   "metadata": {
    "colab": {},
    "colab_type": "code",
    "id": "USGlNXxjD4jP"
   },
   "outputs": [],
   "source": [
    "auth.authenticate_user()\n",
    "gauth = GoogleAuth()\n",
    "gauth.credentials = GoogleCredentials.get_application_default()\n",
    "drive = GoogleDrive(gauth)"
   ]
  },
  {
   "cell_type": "code",
   "execution_count": 0,
   "metadata": {
    "colab": {},
    "colab_type": "code",
    "id": "fYWJzpVSEJYF"
   },
   "outputs": [],
   "source": [
    "# https://drive.google.com/open?id=13lAtJuivd6lmcT-OUotBtqadqB4Hegy1\n",
    "id = \"13lAtJuivd6lmcT-OUotBtqadqB4Hegy1\""
   ]
  },
  {
   "cell_type": "code",
   "execution_count": 0,
   "metadata": {
    "colab": {},
    "colab_type": "code",
    "id": "04bSDvtuD6qU"
   },
   "outputs": [],
   "source": [
    "downloaded = drive.CreateFile({'id':id})   # replace the id with id of file you want to access\n",
    "downloaded.GetContentFile('bigmart_sale.zip')"
   ]
  },
  {
   "cell_type": "code",
   "execution_count": 0,
   "metadata": {
    "colab": {},
    "colab_type": "code",
    "id": "HwaBWVlnEWP8"
   },
   "outputs": [],
   "source": [
    "with zipfile.ZipFile(\"bigmart_sale.zip\",\"r\") as zip_ref:\n",
    "    zip_ref.extractall(\"bigmart\") "
   ]
  },
  {
   "cell_type": "code",
   "execution_count": 8,
   "metadata": {
    "colab": {
     "base_uri": "https://localhost:8080/",
     "height": 33
    },
    "colab_type": "code",
    "id": "5qTNj1m_EtY-",
    "outputId": "5d17980e-92e0-48dd-9f07-d3c35442d2ec"
   },
   "outputs": [
    {
     "data": {
      "text/plain": [
       "['train_big_mart_data.csv', 'test_big_mart_data.csv']"
      ]
     },
     "execution_count": 8,
     "metadata": {
      "tags": []
     },
     "output_type": "execute_result"
    }
   ],
   "source": [
    "os.listdir(\"bigmart\")"
   ]
  },
  {
   "cell_type": "code",
   "execution_count": 0,
   "metadata": {
    "colab": {},
    "colab_type": "code",
    "id": "BEPjj1SAEoCS"
   },
   "outputs": [],
   "source": [
    "df = pd.read_csv(\"bigmart/train_big_mart_data.csv\", index_col=0) \n",
    "# sns.pairplot(df)"
   ]
  },
  {
   "cell_type": "code",
   "execution_count": 0,
   "metadata": {
    "colab": {},
    "colab_type": "code",
    "id": "xF5MFEsrWPXd"
   },
   "outputs": [],
   "source": []
  },
  {
   "cell_type": "code",
   "execution_count": 0,
   "metadata": {
    "colab": {},
    "colab_type": "code",
    "id": "-9gyxf4T0XwU"
   },
   "outputs": [],
   "source": [
    "train_data = df.drop('Item_Identifier', axis = 1) "
   ]
  },
  {
   "cell_type": "code",
   "execution_count": 0,
   "metadata": {
    "colab": {},
    "colab_type": "code",
    "id": "6y3jhInt0gSh"
   },
   "outputs": [],
   "source": [
    "train_label = train_data.pop('Item_Outlet_Sales')"
   ]
  },
  {
   "cell_type": "code",
   "execution_count": 0,
   "metadata": {
    "colab": {},
    "colab_type": "code",
    "id": "2MkXcefYE-fG"
   },
   "outputs": [],
   "source": [
    "label = df.Item_Outlet_Sales"
   ]
  },
  {
   "cell_type": "code",
   "execution_count": 0,
   "metadata": {
    "colab": {},
    "colab_type": "code",
    "id": "WmmeBriyJtIB"
   },
   "outputs": [],
   "source": [
    "features = df.drop(['Item_Outlet_Sales','Item_Identifier'],axis = 1)"
   ]
  },
  {
   "cell_type": "code",
   "execution_count": 14,
   "metadata": {
    "colab": {
     "base_uri": "https://localhost:8080/",
     "height": 33
    },
    "colab_type": "code",
    "id": "7w8Teqx0Jx0f",
    "outputId": "efcfdd1e-6ea5-43e8-a82a-70de00a9e530"
   },
   "outputs": [
    {
     "data": {
      "text/plain": [
       "(8510, 45)"
      ]
     },
     "execution_count": 14,
     "metadata": {
      "tags": []
     },
     "output_type": "execute_result"
    }
   ],
   "source": [
    "features.shape"
   ]
  },
  {
   "cell_type": "code",
   "execution_count": 0,
   "metadata": {
    "colab": {},
    "colab_type": "code",
    "id": "0hLtPNa_HZ1-"
   },
   "outputs": [],
   "source": [
    "from sklearn.model_selection import train_test_split, KFold,cross_val_score\n",
    "from sklearn.metrics import mean_squared_error,mean_absolute_error,accuracy_score, auc, roc_curve"
   ]
  },
  {
   "cell_type": "code",
   "execution_count": 0,
   "metadata": {
    "colab": {},
    "colab_type": "code",
    "id": "JV9bO8HnJXJF"
   },
   "outputs": [],
   "source": [
    "Xtrain, Xtest, Ytrain, Ytest = train_test_split(features,label,test_size = 0.2, random_state = 42)"
   ]
  },
  {
   "cell_type": "code",
   "execution_count": 17,
   "metadata": {
    "colab": {
     "base_uri": "https://localhost:8080/",
     "height": 217
    },
    "colab_type": "code",
    "id": "0iX2D5s4dc08",
    "outputId": "4f279c7c-c061-4d59-a157-5d001786820b"
   },
   "outputs": [
    {
     "data": {
      "text/plain": [
       "1372    5426.2700\n",
       "3846    6705.2718\n",
       "333     9267.9360\n",
       "1259    5851.0504\n",
       "3532    1877.5560\n",
       "          ...    \n",
       "5734    3419.5488\n",
       "5191    3621.2862\n",
       "5390      61.9194\n",
       "860     1649.8524\n",
       "7270     194.4136\n",
       "Name: Item_Outlet_Sales, Length: 6808, dtype: float64"
      ]
     },
     "execution_count": 17,
     "metadata": {
      "tags": []
     },
     "output_type": "execute_result"
    }
   ],
   "source": [
    "Ytrain"
   ]
  },
  {
   "cell_type": "code",
   "execution_count": 0,
   "metadata": {
    "colab": {},
    "colab_type": "code",
    "id": "CydTQlv0LOHc"
   },
   "outputs": [],
   "source": [
    "from sklearn.tree import DecisionTreeRegressor,ExtraTreeRegressor\n",
    "from sklearn.ensemble import RandomForestRegressor,GradientBoostingRegressor,AdaBoostRegressor # GBM\n",
    "from sklearn.neighbors import KNeighborsRegressor\n",
    "# from sklearn.discriminant_analysis import LinearDiscriminantAnalysis for classification\n",
    "import lightgbm\n",
    "# from catboost import CatBoostRegressor\n",
    "from xgboost import XGBRegressor,XGBRFRegressor\n",
    "import sklearn\n"
   ]
  },
  {
   "cell_type": "markdown",
   "metadata": {
    "colab_type": "text",
    "id": "bju9ML8etySL"
   },
   "source": [
    "First Check Machine learning Algorithms"
   ]
  },
  {
   "cell_type": "code",
   "execution_count": 0,
   "metadata": {
    "colab": {},
    "colab_type": "code",
    "id": "AT33JNROXMnU"
   },
   "outputs": [],
   "source": [
    "models = [] \n",
    "models.append(('KNN',KNeighborsRegressor()))\n",
    "models.append(('DT',DecisionTreeRegressor()))\n",
    "models.append(('RF',RandomForestRegressor()))\n",
    "models.append(('xgb',XGBRegressor()))\n",
    "models.append(('GBR',GradientBoostingRegressor()))\n",
    "models.append(('ADA',AdaBoostRegressor()))\n",
    "# models.append(('CBR',CatBoostRegressor()))"
   ]
  },
  {
   "cell_type": "code",
   "execution_count": 0,
   "metadata": {
    "colab": {},
    "colab_type": "code",
    "id": "47ZIlRmrAC4J"
   },
   "outputs": [],
   "source": [
    "# sorted(sklearn.metrics.SCORERS.keys())"
   ]
  },
  {
   "cell_type": "code",
   "execution_count": 21,
   "metadata": {
    "colab": {
     "base_uri": "https://localhost:8080/",
     "height": 619
    },
    "colab_type": "code",
    "id": "Bv6VVU1uE_T3",
    "outputId": "298319f6-f9c2-4420-becc-dd34a4a78e11"
   },
   "outputs": [
    {
     "name": "stdout",
     "output_type": "stream",
     "text": [
      "KNN and RMSE is 1193.2032367690754 and MAE is 859.5685263821803 and Accuracy 0.5008833070853714\n",
      "DT and RMSE is 1531.5688741404354 and MAE is 1071.434683207653 and Accuracy 0.18003555317905984\n",
      "RF and RMSE is 1172.6831464752418 and MAE is 829.2439408063661 and Accuracy 0.5212908540826747\n",
      "[19:43:20] WARNING: /workspace/src/objective/regression_obj.cu:152: reg:linear is now deprecated in favor of reg:squarederror.\n",
      "[19:43:21] WARNING: /workspace/src/objective/regression_obj.cu:152: reg:linear is now deprecated in favor of reg:squarederror.\n",
      "[19:43:22] WARNING: /workspace/src/objective/regression_obj.cu:152: reg:linear is now deprecated in favor of reg:squarederror.\n",
      "[19:43:22] WARNING: /workspace/src/objective/regression_obj.cu:152: reg:linear is now deprecated in favor of reg:squarederror.\n",
      "[19:43:23] WARNING: /workspace/src/objective/regression_obj.cu:152: reg:linear is now deprecated in favor of reg:squarederror.\n",
      "[19:43:24] WARNING: /workspace/src/objective/regression_obj.cu:152: reg:linear is now deprecated in favor of reg:squarederror.\n",
      "[19:43:24] WARNING: /workspace/src/objective/regression_obj.cu:152: reg:linear is now deprecated in favor of reg:squarederror.\n",
      "[19:43:25] WARNING: /workspace/src/objective/regression_obj.cu:152: reg:linear is now deprecated in favor of reg:squarederror.\n",
      "[19:43:26] WARNING: /workspace/src/objective/regression_obj.cu:152: reg:linear is now deprecated in favor of reg:squarederror.\n",
      "[19:43:26] WARNING: /workspace/src/objective/regression_obj.cu:152: reg:linear is now deprecated in favor of reg:squarederror.\n",
      "[19:43:27] WARNING: /workspace/src/objective/regression_obj.cu:152: reg:linear is now deprecated in favor of reg:squarederror.\n",
      "[19:43:28] WARNING: /workspace/src/objective/regression_obj.cu:152: reg:linear is now deprecated in favor of reg:squarederror.\n",
      "[19:43:28] WARNING: /workspace/src/objective/regression_obj.cu:152: reg:linear is now deprecated in favor of reg:squarederror.\n",
      "[19:43:29] WARNING: /workspace/src/objective/regression_obj.cu:152: reg:linear is now deprecated in favor of reg:squarederror.\n",
      "[19:43:30] WARNING: /workspace/src/objective/regression_obj.cu:152: reg:linear is now deprecated in favor of reg:squarederror.\n",
      "[19:43:30] WARNING: /workspace/src/objective/regression_obj.cu:152: reg:linear is now deprecated in favor of reg:squarederror.\n",
      "[19:43:31] WARNING: /workspace/src/objective/regression_obj.cu:152: reg:linear is now deprecated in favor of reg:squarederror.\n",
      "[19:43:32] WARNING: /workspace/src/objective/regression_obj.cu:152: reg:linear is now deprecated in favor of reg:squarederror.\n",
      "[19:43:32] WARNING: /workspace/src/objective/regression_obj.cu:152: reg:linear is now deprecated in favor of reg:squarederror.\n",
      "[19:43:33] WARNING: /workspace/src/objective/regression_obj.cu:152: reg:linear is now deprecated in favor of reg:squarederror.\n",
      "[19:43:33] WARNING: /workspace/src/objective/regression_obj.cu:152: reg:linear is now deprecated in favor of reg:squarederror.\n",
      "[19:43:34] WARNING: /workspace/src/objective/regression_obj.cu:152: reg:linear is now deprecated in favor of reg:squarederror.\n",
      "[19:43:35] WARNING: /workspace/src/objective/regression_obj.cu:152: reg:linear is now deprecated in favor of reg:squarederror.\n",
      "[19:43:35] WARNING: /workspace/src/objective/regression_obj.cu:152: reg:linear is now deprecated in favor of reg:squarederror.\n",
      "[19:43:36] WARNING: /workspace/src/objective/regression_obj.cu:152: reg:linear is now deprecated in favor of reg:squarederror.\n",
      "[19:43:37] WARNING: /workspace/src/objective/regression_obj.cu:152: reg:linear is now deprecated in favor of reg:squarederror.\n",
      "[19:43:37] WARNING: /workspace/src/objective/regression_obj.cu:152: reg:linear is now deprecated in favor of reg:squarederror.\n",
      "[19:43:38] WARNING: /workspace/src/objective/regression_obj.cu:152: reg:linear is now deprecated in favor of reg:squarederror.\n",
      "[19:43:39] WARNING: /workspace/src/objective/regression_obj.cu:152: reg:linear is now deprecated in favor of reg:squarederror.\n",
      "[19:43:39] WARNING: /workspace/src/objective/regression_obj.cu:152: reg:linear is now deprecated in favor of reg:squarederror.\n",
      "xgb and RMSE is 1072.0554321422273 and MAE is 759.816160908857 and Accuracy 0.5968114273784734\n",
      "GBR and RMSE is 1070.961209688077 and MAE is 759.5740318619135 and Accuracy 0.5972715109585873\n",
      "ADA and RMSE is 1128.6727638858106 and MAE is 836.4512197070729 and Accuracy 0.550761411374056\n"
     ]
    }
   ],
   "source": [
    "results = [] \n",
    "names = []\n",
    "for name, model in models: \n",
    "  kfold = KFold(n_splits = 10, random_state = 42) \n",
    "  cv_results = cross_val_score( \n",
    "          model, Xtrain, Ytrain, cv = kfold, scoring = 'neg_mean_squared_error') # for regression RMSE\n",
    "          \n",
    "  mae = cross_val_score( \n",
    "          model, Xtrain, Ytrain, cv = kfold, scoring = 'neg_mean_absolute_error') # for regression RMSE\n",
    "                  \n",
    "  cv_results2 = cross_val_score( \n",
    "          model, Xtrain, Ytrain, cv = kfold) # for regression accuracy        \n",
    "  \n",
    "  rmse_score = np.sqrt(-cv_results)         \n",
    "  results.append(rmse_score.mean()) \n",
    "  names.append(name)\n",
    "  print(f\"{name} and RMSE is {rmse_score.mean()} and MAE is {(-mae).mean()} and Accuracy {cv_results2.mean()}\")"
   ]
  },
  {
   "cell_type": "code",
   "execution_count": 22,
   "metadata": {
    "colab": {
     "base_uri": "https://localhost:8080/",
     "height": 134
    },
    "colab_type": "code",
    "id": "OejPo-FkrWdi",
    "outputId": "c3699f37-2704-4359-9340-09c813ef9a57"
   },
   "outputs": [
    {
     "name": "stdout",
     "output_type": "stream",
     "text": [
      "Choose the best model\n",
      "KNN -> RMSE 1193.2032367690754\n",
      "DT -> RMSE 1531.5688741404354\n",
      "RF -> RMSE 1172.6831464752418\n",
      "xgb -> RMSE 1072.0554321422273\n",
      "GBR -> RMSE 1070.961209688077\n",
      "ADA -> RMSE 1128.6727638858106\n"
     ]
    }
   ],
   "source": [
    "print(\"Choose the best model\")\n",
    "for name,result in zip(names,results):\n",
    "  print(f\"{name} -> RMSE {result}\")"
   ]
  },
  {
   "cell_type": "markdown",
   "metadata": {
    "colab_type": "text",
    "id": "nsWn1ciFt4Cj"
   },
   "source": [
    "Now Check Deep learning Model, Our DNN"
   ]
  },
  {
   "cell_type": "code",
   "execution_count": 23,
   "metadata": {
    "colab": {
     "base_uri": "https://localhost:8080/",
     "height": 62
    },
    "colab_type": "code",
    "id": "w7Y9rFM2uFFZ",
    "outputId": "ddde990f-d61f-4627-a955-ebe290416ac1"
   },
   "outputs": [
    {
     "data": {
      "text/html": [
       "<p style=\"color: red;\">\n",
       "The default version of TensorFlow in Colab will soon switch to TensorFlow 2.x.<br>\n",
       "We recommend you <a href=\"https://www.tensorflow.org/guide/migrate\" target=\"_blank\">upgrade</a> now \n",
       "or ensure your notebook will continue to use TensorFlow 1.x via the <code>%tensorflow_version 1.x</code> magic:\n",
       "<a href=\"https://colab.research.google.com/notebooks/tensorflow_version.ipynb\" target=\"_blank\">more info</a>.</p>\n"
      ],
      "text/plain": [
       "<IPython.core.display.HTML object>"
      ]
     },
     "metadata": {
      "tags": []
     },
     "output_type": "display_data"
    }
   ],
   "source": [
    "from tensorflow.keras.wrappers.scikit_learn import KerasRegressor\n",
    "from tensorflow.keras.layers import Dense,Dropout\n",
    "from tensorflow.keras.models import Sequential\n",
    "import tensorflow as tf"
   ]
  },
  {
   "cell_type": "code",
   "execution_count": 0,
   "metadata": {
    "colab": {},
    "colab_type": "code",
    "id": "1otWNwCC0F5r"
   },
   "outputs": [],
   "source": [
    "import tensorflow_docs as tfdocs\n",
    "import tensorflow_docs.plots\n",
    "import tensorflow_docs.modeling"
   ]
  },
  {
   "cell_type": "code",
   "execution_count": 0,
   "metadata": {
    "colab": {},
    "colab_type": "code",
    "id": "qxVPsvI61CTP"
   },
   "outputs": [],
   "source": [
    "# !pip install git+https://github.com/tensorflow/docs"
   ]
  },
  {
   "cell_type": "code",
   "execution_count": 0,
   "metadata": {
    "colab": {},
    "colab_type": "code",
    "id": "BTO8LYMVtuyv"
   },
   "outputs": [],
   "source": [
    "def my_model():\n",
    "  model = Sequential()\n",
    "  # input_shape = no of features\n",
    "  model.add(Dense(90,input_shape = [45], kernel_initializer='normal',activation='relu'))\n",
    "  # Dense Layer\n",
    "\n",
    "  model.add(Dense(180, kernel_initializer='normal', activation='relu'))\n",
    "  model.add(Dense(180, kernel_initializer='normal', activation='relu'))\n",
    "  model.add(Dense(180, kernel_initializer='normal', activation='relu'))\n",
    "  model.add(Dropout(0.2))\n",
    "\n",
    "  model.add(Dense(360, kernel_initializer='normal', activation='relu'))\n",
    "  model.add(Dense(360, kernel_initializer='normal', activation='relu'))\n",
    "  # model.add(Dense(360, kernel_initializer='normal', activation='relu'))\n",
    "  model.add(Dropout(0.5))\n",
    "\n",
    "  # output layer\n",
    "\n",
    "  # model.add(Dense(1, kernel_initializer='normal', activation='linear')) # linear for the regression problem\n",
    "  model.add(Dense(1))\n",
    "  adam = tf.keras.optimizers.Adam(0.001)\n",
    "  # The absolute error is the absolute value of the difference between the forecasted value and the actual value. \n",
    "  # MAE tells us how big of an error we can expect from the forecast on average\n",
    "  model.compile(loss = 'mse', optimizer = adam , metrics=['mae', 'mse']) # mean squarred error and mean absloute error\n",
    "  return model"
   ]
  },
  {
   "cell_type": "code",
   "execution_count": 0,
   "metadata": {
    "colab": {},
    "colab_type": "code",
    "id": "DmgvLeEC1wNT"
   },
   "outputs": [],
   "source": [
    "model = my_model()\n",
    "history = None"
   ]
  },
  {
   "cell_type": "code",
   "execution_count": 37,
   "metadata": {
    "colab": {
     "base_uri": "https://localhost:8080/",
     "height": 87
    },
    "colab_type": "code",
    "id": "33W_4kOx2Ntb",
    "outputId": "12d7fecd-af67-440c-f8db-de7ca2eb01ce"
   },
   "outputs": [
    {
     "name": "stdout",
     "output_type": "stream",
     "text": [
      "\n",
      "Epoch: 0, loss:2172186.2562,  mean_absolute_error:1046.6302,  mean_squared_error:2172186.2500,  val_loss:1284581.3860,  val_mean_absolute_error:780.3954,  val_mean_squared_error:1284581.5000,  \n",
      "........................."
     ]
    }
   ],
   "source": [
    "EPOCHS = 1000\n",
    "# The patience parameter is the amount of epochs to check for improvement\n",
    "early_stop = tf.keras.callbacks.EarlyStopping(monitor='val_loss', patience=10)\n",
    "\n",
    "history = model.fit(\n",
    "  train_data, train_label,\n",
    "  epochs=EPOCHS, validation_split = 0.2, verbose=0,\n",
    "  callbacks=[early_stop,tfdocs.modeling.EpochDots()])"
   ]
  },
  {
   "cell_type": "code",
   "execution_count": 0,
   "metadata": {
    "colab": {},
    "colab_type": "code",
    "id": "kTGIZkpQuOE1"
   },
   "outputs": [],
   "source": [
    "# estimat = KerasRegressor(build_fn=my_model, epochs = 200, verbose = 1)\n",
    "# cv_score = cross_val_score(estimat, Xtrain, Ytrain, cv = 10)\n",
    "# cv_score.mean() # RMSE"
   ]
  },
  {
   "cell_type": "code",
   "execution_count": 38,
   "metadata": {
    "colab": {
     "base_uri": "https://localhost:8080/",
     "height": 196
    },
    "colab_type": "code",
    "id": "1poM0Rdzucjr",
    "outputId": "546cd0f8-5fe3-4fed-c5a3-364c28621839"
   },
   "outputs": [
    {
     "data": {
      "text/html": [
       "<div>\n",
       "<style scoped>\n",
       "    .dataframe tbody tr th:only-of-type {\n",
       "        vertical-align: middle;\n",
       "    }\n",
       "\n",
       "    .dataframe tbody tr th {\n",
       "        vertical-align: top;\n",
       "    }\n",
       "\n",
       "    .dataframe thead th {\n",
       "        text-align: right;\n",
       "    }\n",
       "</style>\n",
       "<table border=\"1\" class=\"dataframe\">\n",
       "  <thead>\n",
       "    <tr style=\"text-align: right;\">\n",
       "      <th></th>\n",
       "      <th>loss</th>\n",
       "      <th>mean_absolute_error</th>\n",
       "      <th>mean_squared_error</th>\n",
       "      <th>val_loss</th>\n",
       "      <th>val_mean_absolute_error</th>\n",
       "      <th>val_mean_squared_error</th>\n",
       "      <th>epoch</th>\n",
       "    </tr>\n",
       "  </thead>\n",
       "  <tbody>\n",
       "    <tr>\n",
       "      <th>20</th>\n",
       "      <td>1.147730e+06</td>\n",
       "      <td>755.996643</td>\n",
       "      <td>1147730.000</td>\n",
       "      <td>1.166617e+06</td>\n",
       "      <td>770.211853</td>\n",
       "      <td>1166616.875</td>\n",
       "      <td>20</td>\n",
       "    </tr>\n",
       "    <tr>\n",
       "      <th>21</th>\n",
       "      <td>1.161870e+06</td>\n",
       "      <td>756.723389</td>\n",
       "      <td>1161869.625</td>\n",
       "      <td>1.150426e+06</td>\n",
       "      <td>747.461121</td>\n",
       "      <td>1150426.125</td>\n",
       "      <td>21</td>\n",
       "    </tr>\n",
       "    <tr>\n",
       "      <th>22</th>\n",
       "      <td>1.167074e+06</td>\n",
       "      <td>757.580261</td>\n",
       "      <td>1167074.250</td>\n",
       "      <td>1.143857e+06</td>\n",
       "      <td>758.319031</td>\n",
       "      <td>1143856.875</td>\n",
       "      <td>22</td>\n",
       "    </tr>\n",
       "    <tr>\n",
       "      <th>23</th>\n",
       "      <td>1.145032e+06</td>\n",
       "      <td>754.669312</td>\n",
       "      <td>1145031.875</td>\n",
       "      <td>1.182374e+06</td>\n",
       "      <td>786.726135</td>\n",
       "      <td>1182374.250</td>\n",
       "      <td>23</td>\n",
       "    </tr>\n",
       "    <tr>\n",
       "      <th>24</th>\n",
       "      <td>1.152240e+06</td>\n",
       "      <td>757.292969</td>\n",
       "      <td>1152239.625</td>\n",
       "      <td>1.145391e+06</td>\n",
       "      <td>758.388306</td>\n",
       "      <td>1145391.125</td>\n",
       "      <td>24</td>\n",
       "    </tr>\n",
       "  </tbody>\n",
       "</table>\n",
       "</div>"
      ],
      "text/plain": [
       "            loss  mean_absolute_error  ...  val_mean_squared_error  epoch\n",
       "20  1.147730e+06           755.996643  ...             1166616.875     20\n",
       "21  1.161870e+06           756.723389  ...             1150426.125     21\n",
       "22  1.167074e+06           757.580261  ...             1143856.875     22\n",
       "23  1.145032e+06           754.669312  ...             1182374.250     23\n",
       "24  1.152240e+06           757.292969  ...             1145391.125     24\n",
       "\n",
       "[5 rows x 7 columns]"
      ]
     },
     "execution_count": 38,
     "metadata": {
      "tags": []
     },
     "output_type": "execute_result"
    }
   ],
   "source": [
    "hist = pd.DataFrame(history.history)\n",
    "hist['epoch'] = history.epoch\n",
    "hist.tail()"
   ]
  },
  {
   "cell_type": "code",
   "execution_count": 0,
   "metadata": {
    "colab": {},
    "colab_type": "code",
    "id": "CzbOyVAm77qP"
   },
   "outputs": [],
   "source": []
  },
  {
   "cell_type": "code",
   "execution_count": 0,
   "metadata": {
    "colab": {},
    "colab_type": "code",
    "id": "3wsqzZ4V780D"
   },
   "outputs": [],
   "source": []
  },
  {
   "cell_type": "code",
   "execution_count": 39,
   "metadata": {
    "colab": {
     "base_uri": "https://localhost:8080/",
     "height": 981
    },
    "colab_type": "code",
    "id": "TBDJTud88mXU",
    "outputId": "27c8a54c-89b2-4a29-bb7e-b8877dc0e25e"
   },
   "outputs": [
    {
     "data": {
      "image/png": "[encoded data removed]",
      "text/plain": [
       "<Figure size 576x576 with 2 Axes>"
      ]
     },
     "metadata": {
      "tags": []
     },
     "output_type": "display_data"
    },
    {
     "data": {
      "image/png": "[encoded data removed]",
      "text/plain": [
       "<Figure size 576x576 with 1 Axes>"
      ]
     },
     "metadata": {
      "tags": []
     },
     "output_type": "display_data"
    }
   ],
   "source": [
    "acc = history.history['loss']\n",
    "val_acc = history.history['val_loss']\n",
    "\n",
    "val_loss = history.history['val_mean_absolute_error']\n",
    "loss = history.history['mean_absolute_error']\n",
    "\n",
    "rmse = history.history['mean_squared_error']\n",
    "val_rmse = history.history['val_mean_squared_error']\n",
    "\n",
    "# epochs_range = range()\n",
    "\n",
    "plt.figure(figsize=(8, 8))\n",
    "plt.subplot(1, 3, 1)\n",
    "plt.plot(acc, label='Training Loss')\n",
    "plt.plot(val_acc, label='Validation Loss')\n",
    "plt.legend(loc='upper right')\n",
    "plt.title('Training and Validation Loss')\n",
    "\n",
    "plt.subplot(1, 3, 2)\n",
    "plt.plot( loss, label='Training Mae')\n",
    "plt.plot( val_loss, label='Validation Mae')\n",
    "plt.legend(loc='upper right')\n",
    "plt.title('Training and Validation Mae')\n",
    "\n",
    "plt.figure(figsize=(8, 8))\n",
    "plt.subplot(1, 3, 3)\n",
    "plt.plot(rmse, label='Training RMSE')\n",
    "plt.plot(val_rmse, label='Validation RMSE')\n",
    "plt.legend(loc='upper right')\n",
    "plt.title('Training and Validation RMSE')\n",
    "\n",
    "plt.show()\n",
    "\n",
    "# we have overfitting"
   ]
  },
  {
   "cell_type": "markdown",
   "metadata": {
    "colab_type": "text",
    "id": "TKB6MpG2pww5"
   },
   "source": [
    "XGB and GBR are perofrming best becuase they have the lowest RMSE"
   ]
  },
  {
   "cell_type": "code",
   "execution_count": 0,
   "metadata": {
    "colab": {},
    "colab_type": "code",
    "id": "P5xOauXlWByS"
   },
   "outputs": [],
   "source": [
    "# now we have choose an algorithm\n",
    "# bagging is choose one algorithm and make more algorithms from the sample datasets\n",
    "# from sklearn.ensemble import VotingRegressor, BaggingRegressor # for voating\n",
    "# this is will create 500 Gradient boosting regressors and each randomly pickup the 100 samples from data set\n",
    "# n_jobs mean use all cores of the PC\n",
    "\n",
    "# bad_reg = BaggingRegressor(\n",
    "#     DecisionTreeRegressor(), n_estimators = 500,\n",
    "#     max_samples = 100, bootstrap = True, n_jobs = -1,\n",
    "#     oob_score = True\n",
    "# )\n",
    "# res = bad_reg.fit(Xtrain,Ytrain)\n",
    "# bad_reg.oob_score_ # 58% accuracy on test data\n",
    "# RMSE = cross_val_score(bad_reg, Xtrain,Ytrain, cv = 10, scoring='neg_mean_squared_error')\n",
    "# res = np.sqrt(-RMSE)\n",
    "# print(res.mean())"
   ]
  },
  {
   "cell_type": "markdown",
   "metadata": {
    "colab_type": "text",
    "id": "_r7Pmv9ocP5c"
   },
   "source": [
    "without hyper parameter tuning"
   ]
  },
  {
   "cell_type": "code",
   "execution_count": 51,
   "metadata": {
    "colab": {
     "base_uri": "https://localhost:8080/",
     "height": 50
    },
    "colab_type": "code",
    "id": "fpBAmlP2ZMjX",
    "outputId": "dee2c965-0d4c-49ce-fbaa-df45674ce42f"
   },
   "outputs": [
    {
     "name": "stdout",
     "output_type": "stream",
     "text": [
      "The Root Mean Squared Error is 1070.9362771677147 and Absolute Error is 759.9270768860988 on Cross Validation Data\n",
      "The Root Mean Squared Error is 1025.4798438395133 and Absolute Error is 722.5328807417737 on Validation Data\n"
     ]
    }
   ],
   "source": [
    "# without hyper parameter tuning\n",
    "gbr = GradientBoostingRegressor()\n",
    "kfold = KFold(n_splits=20,random_state=42)\n",
    "val_score = cross_val_score(gbr,Xtrain,Ytrain,scoring='neg_mean_squared_error',cv=kfold)\n",
    "rmse = np.mean(np.sqrt(-val_score)) # rmse  \n",
    "val_score = cross_val_score(gbr,Xtrain,Ytrain,scoring='neg_mean_absolute_error',cv=kfold)\n",
    "mae = np.mean(-val_score) # rmse  \n",
    "print(f\"The Root Mean Squared Error is {rmse} and Absolute Error is {mae} on Cross Validation Data\")\n",
    "\n",
    "gbr_res = gbr.fit(Xtrain,Ytrain)\n",
    "y_predict = gbr.predict(Xtest)\n",
    "error = mean_squared_error(Ytest,y_predict) # this error and cross validation error both are same\n",
    "rmsr_error = np.sqrt(error)\n",
    "mae_error = mean_absolute_error(Ytest,y_predict)\n",
    "print(f\"The Root Mean Squared Error is {rmsr_error} and Absolute Error is {mae_error} on Validation Data\")"
   ]
  },
  {
   "cell_type": "markdown",
   "metadata": {
    "colab_type": "text",
    "id": "c4gYr1ZkaWAc"
   },
   "source": [
    "**we have choose an model, know we do hyper parameter tuning of Gradient Boosting Regressor**"
   ]
  },
  {
   "cell_type": "code",
   "execution_count": 0,
   "metadata": {
    "colab": {},
    "colab_type": "code",
    "id": "4XS6qdP8i0Hn"
   },
   "outputs": [],
   "source": [
    "# our promising models are xgboost and gradient boosting regressor\n",
    "# its is time taken approces so we use hit and trial hyper parameter tuning\n",
    "from sklearn.model_selection import GridSearchCV\n",
    "gbr = GradientBoostingRegressor()\n",
    "params = {\n",
    "     'alpha':[0.9,0.8,0.7], \n",
    "      'criterion':['mse','friedman_mse'],\n",
    "      'learning_rate':[0.1,0.01,0.001],\n",
    "      'max_depth':[3,4,5],\n",
    "      'max_features': [15,20,25],\n",
    "      'n_estimators':[100,200,300],\n",
    "      'warm_start':[True,False],\n",
    "}\n",
    "model_grid_search = GridSearchCV(gbr,params,cv=10, scoring = 'neg_mean_squared_error')\n",
    "# model_grid_search.fit(Xtrain,Ytrain) \n",
    "# model_grid_search = GridSearchCV(estimator= gbr,param_grid=params,scoring='neg_mean_squared_error',cv = 10)\n"
   ]
  },
  {
   "cell_type": "code",
   "execution_count": 0,
   "metadata": {
    "colab": {},
    "colab_type": "code",
    "id": "5I6V1EjNs9bf"
   },
   "outputs": [],
   "source": [
    "def tuning_params(**params):\n",
    "  gbr = GradientBoostingRegressor(**params)\n",
    "  kfold = KFold(n_splits=20,random_state=42)\n",
    "  val_score = cross_val_score(gbr,Xtrain,Ytrain,scoring='neg_mean_squared_error',cv=kfold)\n",
    "  rmse = np.mean(np.sqrt(-val_score)) # rmse  \n",
    "  val_score = cross_val_score(gbr,Xtrain,Ytrain,scoring='neg_mean_absolute_error',cv=kfold)\n",
    "  mae = np.mean(-val_score) # rmse  \n",
    "\n",
    "  gbr_res = gbr.fit(Xtrain,Ytrain)\n",
    "  y_predict = gbr.predict(Xtest)\n",
    "  error = mean_squared_error(Ytest,y_predict) # this error and cross validation error both are same\n",
    "  rmsr_error = np.sqrt(error)\n",
    "  mae_error = mean_absolute_error(Ytest,y_predict)\n",
    "  print(f\"The Root Mean Squared Error is {rmse} and Absolute Error is {mae} on Cross Validation Data\")\n",
    "  print(f\"The Root Mean Squared Error is {rmsr_error} and Absolute Error is {mae_error} on Validation Data\")"
   ]
  },
  {
   "cell_type": "code",
   "execution_count": 52,
   "metadata": {
    "colab": {
     "base_uri": "https://localhost:8080/",
     "height": 33
    },
    "colab_type": "code",
    "id": "qypNYaJcaNFe",
    "outputId": "4aa829af-e0e7-4f33-b215-8f308d2e0c1c"
   },
   "outputs": [
    {
     "name": "stdout",
     "output_type": "stream",
     "text": [
      "The Root Mean Squared Error is 1137.8887359045204 and Absolute Error is 807.2602754698453 on Cross Validation Data\n"
     ]
    }
   ],
   "source": [
    "param = {\n",
    "      'alpha':0.7, \n",
    "      'criterion':'friedman_mse',\n",
    "      'learning_rate':0.1,\n",
    "      'max_depth':5,\n",
    "      'max_features': 20,\n",
    "      'n_estimators':400,\n",
    "      'warm_start':True}\n",
    "tuning_params(**param)     "
   ]
  },
  {
   "cell_type": "markdown",
   "metadata": {
    "colab_type": "text",
    "id": "8tcYLySGdhwu"
   },
   "source": [
    "Saving model "
   ]
  },
  {
   "cell_type": "code",
   "execution_count": 0,
   "metadata": {
    "colab": {},
    "colab_type": "code",
    "id": "6T8WpmjmtKHC"
   },
   "outputs": [],
   "source": [
    "from sklearn.externals import joblib\n",
    "joblib.dump(gbr,\"my_model_gbr.pkl\")\n",
    "my_loaded_model = joblib.load(\"my_model_gbr.pkl\")\n"
   ]
  },
  {
   "cell_type": "code",
   "execution_count": 0,
   "metadata": {
    "colab": {},
    "colab_type": "code",
    "id": "aMFj-R3xqZ6g"
   },
   "outputs": [],
   "source": [
    "y_predict = my_loaded_model.predict(Xtest)"
   ]
  },
  {
   "cell_type": "code",
   "execution_count": 58,
   "metadata": {
    "colab": {
     "base_uri": "https://localhost:8080/",
     "height": 33
    },
    "colab_type": "code",
    "id": "-kkTCBTHyq6o",
    "outputId": "7fb69522-cd94-4a69-f859-ceef2c358515"
   },
   "outputs": [
    {
     "data": {
      "text/plain": [
       "722.5328807417737"
      ]
     },
     "execution_count": 58,
     "metadata": {
      "tags": []
     },
     "output_type": "execute_result"
    }
   ],
   "source": [
    "mean_absolute_error(Ytest,y_predict)"
   ]
  },
  {
   "cell_type": "code",
   "execution_count": 60,
   "metadata": {
    "colab": {
     "base_uri": "https://localhost:8080/",
     "height": 33
    },
    "colab_type": "code",
    "id": "f-FxHvtaGnLF",
    "outputId": "8fe13f96-cb3a-4785-c785-da3ab007c405"
   },
   "outputs": [
    {
     "data": {
      "text/plain": [
       "1025.4798438395133"
      ]
     },
     "execution_count": 60,
     "metadata": {
      "tags": []
     },
     "output_type": "execute_result"
    }
   ],
   "source": [
    "np.sqrt(mean_squared_error(Ytest,y_predict))"
   ]
  },
  {
   "cell_type": "code",
   "execution_count": 0,
   "metadata": {
    "colab": {},
    "colab_type": "code",
    "id": "XE6HlSnKnuU0"
   },
   "outputs": [],
   "source": []
  }
 ],
 "metadata": {
  "accelerator": "GPU",
  "colab": {
   "collapsed_sections": [],
   "name": "big_mart_sale_prediction.ipynb",
   "provenance": []
  },
  "kernelspec": {
   "display_name": "Python 3",
   "language": "python",
   "name": "python3"
  },
  "language_info": {
   "codemirror_mode": {
    "name": "ipython",
    "version": 3
   },
   "file_extension": ".py",
   "mimetype": "text/x-python",
   "name": "python",
   "nbconvert_exporter": "python",
   "pygments_lexer": "ipython3",
   "version": "3.7.3"
  }
 },
 "nbformat": 4,
 "nbformat_minor": 1
}
